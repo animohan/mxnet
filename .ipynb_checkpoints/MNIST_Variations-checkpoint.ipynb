{
 "cells": [
  {
   "cell_type": "code",
   "execution_count": 1,
   "metadata": {},
   "outputs": [],
   "source": [
    "import mxnet as mx\n",
    "import numpy as np\n",
    "import mnist\n",
    "import logging"
   ]
  },
  {
   "cell_type": "code",
   "execution_count": 2,
   "metadata": {},
   "outputs": [],
   "source": [
    "train_x, train_y,test_x, test_y = mnist.readmnist('data/mnist')"
   ]
  },
  {
   "cell_type": "code",
   "execution_count": 3,
   "metadata": {},
   "outputs": [],
   "source": [
    "epochs = 50\n",
    "batch_size = 100"
   ]
  },
  {
   "cell_type": "code",
   "execution_count": null,
   "metadata": {},
   "outputs": [],
   "source": [
    "#Setting iterators\n",
    "\n",
    "train_iter = mx.io.NDArrayIter(data = train_x, label = train_y, batch_size = batch_size,data_name = 'data', \n",
    "                               label_name = 'softmax_label',last_batch_handle = \"discard\", shuffle = True)\n",
    "data = mx.sym.Variable(\"data\")\n",
    "fc1 = mx.sym.FullyConnected(data = data, name =\"fc1\", num_hidden = 64, flatten = 1)\n",
    "relu1 = mx.sym.Activation(data = fc1, act_type = \"relu\", name = 'relu1')\n",
    "fc2 = mx.sym.FullyConnected(data = relu1, name = \"fc2\", num_hidden = 10, flatten = 1)\n",
    "out = mx.sym.SoftmaxOutput(data = fc2, name = \"softmax\")\n",
    "\n",
    "mod = mx.mod.Module(out,context = mx.cpu())\n",
    "print(mod.data_names)\n",
    "print(mod.label_names)\n",
    "\n",
    "mod.bind(data_shapes = train_iter.provide_data, label_shapes = train_iter.provide_label, for_training = True)\n",
    "mod.init_params(initializer = mx.init.Xavier(magnitude = 1.0))\n",
    "mod.init_optimizer(optimizer = \"sgd\", optimizer_params=(('learning_rate',0.01),), force_init = False)\n",
    "mod.fit(train_data = train_iter, eval_metric = \"accuracy\", num_epoch = epochs)\n",
    "mod.score(eval_data = train_iter, eval_metric = [\"acc\",\"mse\"])"
   ]
  },
  {
   "cell_type": "code",
   "execution_count": null,
   "metadata": {},
   "outputs": [],
   "source": [
    "test_iter = mx.io.NDArrayIter(data = test_x, label = test_y, batch_size = batch_size, shuffle = False, last_batch_handle = \"discard\")\n",
    "\n",
    "total_correct = 0\n",
    "batch_correct = 0\n",
    "for preds,i, batch in mod.iter_predict(test_iter):\n",
    "    label = batch.label[0].asnumpy().argmax(axis = 1)\n",
    "    pred_label = preds[0].asnumpy().argmax(axis = 1)\n",
    "    batch_correct = np.sum(label == pred_label)\n",
    "    total_correct += batch_correct\n",
    "\n",
    "print(\"Test Set accuracy {%2.2f}\" %(total_correct/len(test_y)))"
   ]
  },
  {
   "cell_type": "code",
   "execution_count": 4,
   "metadata": {},
   "outputs": [
    {
     "name": "stdout",
     "output_type": "stream",
     "text": [
      "epoch 000: accuracy = 0.900000\n",
      "epoch 001: accuracy = 0.900000\n",
      "epoch 002: accuracy = 0.900000\n",
      "epoch 003: accuracy = 0.900000\n",
      "epoch 004: accuracy = 0.900000\n",
      "epoch 005: accuracy = 0.900002\n",
      "epoch 006: accuracy = 0.900002\n",
      "epoch 007: accuracy = 0.900005\n",
      "epoch 008: accuracy = 0.900010\n",
      "epoch 009: accuracy = 0.900013\n",
      "epoch 010: accuracy = 0.900020\n",
      "epoch 011: accuracy = 0.900030\n",
      "epoch 012: accuracy = 0.900043\n",
      "epoch 013: accuracy = 0.900055\n",
      "epoch 014: accuracy = 0.900078\n",
      "epoch 015: accuracy = 0.900113\n",
      "epoch 016: accuracy = 0.900158\n",
      "epoch 017: accuracy = 0.900182\n",
      "epoch 018: accuracy = 0.900238\n",
      "epoch 019: accuracy = 0.900312\n",
      "epoch 020: accuracy = 0.900390\n",
      "epoch 021: accuracy = 0.900463\n",
      "epoch 022: accuracy = 0.900560\n",
      "epoch 023: accuracy = 0.900675\n",
      "epoch 024: accuracy = 0.900802\n",
      "epoch 025: accuracy = 0.900925\n",
      "epoch 026: accuracy = 0.901070\n",
      "epoch 027: accuracy = 0.901217\n",
      "epoch 028: accuracy = 0.901383\n",
      "epoch 029: accuracy = 0.901513\n",
      "epoch 030: accuracy = 0.901692\n",
      "epoch 031: accuracy = 0.901897\n",
      "epoch 032: accuracy = 0.902097\n",
      "epoch 033: accuracy = 0.902332\n",
      "epoch 034: accuracy = 0.902560\n",
      "epoch 035: accuracy = 0.902802\n",
      "epoch 036: accuracy = 0.903038\n",
      "epoch 037: accuracy = 0.903332\n",
      "epoch 038: accuracy = 0.903652\n",
      "epoch 039: accuracy = 0.903947\n",
      "epoch 040: accuracy = 0.904280\n",
      "epoch 041: accuracy = 0.904623\n",
      "epoch 042: accuracy = 0.904948\n",
      "epoch 043: accuracy = 0.905280\n",
      "epoch 044: accuracy = 0.905618\n",
      "epoch 045: accuracy = 0.905992\n",
      "epoch 046: accuracy = 0.906377\n",
      "epoch 047: accuracy = 0.906760\n",
      "epoch 048: accuracy = 0.907103\n",
      "epoch 049: accuracy = 0.907463\n",
      "Test Set accuracy {0.97}\n"
     ]
    }
   ],
   "source": [
    "#Another way to do this\n",
    "train_iter = mx.io.NDArrayIter(data = train_x, label = train_y, batch_size = batch_size,data_name = 'data', \n",
    "                               label_name = 'softmax_label',last_batch_handle = \"discard\", shuffle = True)\n",
    "data = mx.sym.Variable(\"data\")\n",
    "fc1 = mx.sym.FullyConnected(data = data,name = \"fc1\", num_hidden = 64, flatten = 1)\n",
    "relu1 = mx.sym.Activation(data = fc1, name = \"relu1\", act_type = \"relu\")\n",
    "fc2 = mx.sym.FullyConnected(data = relu1, name = \"fc2\", num_hidden = 10)\n",
    "softmax = mx.sym.SoftmaxOutput(data = fc2, name = 'softmax')\n",
    "\n",
    "mod = mx.mod.Module(softmax)\n",
    "mod.bind(data_shapes = train_iter.provide_data, label_shapes = train_iter.provide_label)\n",
    "mod.init_params()\n",
    "mod.init_optimizer(optimizer_params = {'learning_rate': 0.01, 'momentum' : 0.9})\n",
    "metric = mx.metric.create(\"acc\")\n",
    "\n",
    "for i in range(epochs):\n",
    "    for i_iter, batch in enumerate(train_iter):\n",
    "        mod.forward(batch)\n",
    "        mod.update_metric(metric, batch.label)\n",
    "        mod.backward()\n",
    "        mod.update()\n",
    "\n",
    "    for name,val in metric.get_name_value():\n",
    "        print('epoch %03d: %s = %f'%(i,name,val))\n",
    "    metric.reset()\n",
    "    train_iter.reset()\n",
    "\n",
    "test_iter = mx.io.NDArrayIter(data = test_x, label = test_y, batch_size = batch_size, shuffle = False, last_batch_handle = \"discard\")\n",
    "\n",
    "total_correct = 0\n",
    "batch_correct = 0\n",
    "for preds,i, batch in mod.iter_predict(test_iter):\n",
    "    label = batch.label[0].asnumpy().argmax(axis = 1)\n",
    "    pred_label = preds[0].asnumpy().argmax(axis = 1)\n",
    "    batch_correct = np.sum(label == pred_label)\n",
    "    total_correct += batch_correct\n",
    "\n",
    "print(\"Test Set accuracy {%2.2f}\" %(1.0*total_correct/len(test_y)))"
   ]
  },
  {
   "cell_type": "code",
   "execution_count": null,
   "metadata": {},
   "outputs": [],
   "source": []
  }
 ],
 "metadata": {
  "kernelspec": {
   "display_name": "Environment (conda_mxnet_p36)",
   "language": "python",
   "name": "conda_mxnet_p36"
  },
  "language_info": {
   "codemirror_mode": {
    "name": "ipython",
    "version": 3
   },
   "file_extension": ".py",
   "mimetype": "text/x-python",
   "name": "python",
   "nbconvert_exporter": "python",
   "pygments_lexer": "ipython3",
   "version": "3.6.6"
  }
 },
 "nbformat": 4,
 "nbformat_minor": 2
}
