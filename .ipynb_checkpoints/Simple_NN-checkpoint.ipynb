{
 "cells": [
  {
   "cell_type": "code",
   "execution_count": 29,
   "metadata": {},
   "outputs": [
    {
     "ename": "SyntaxError",
     "evalue": "invalid syntax (<ipython-input-29-e24189f9b929>, line 64)",
     "output_type": "error",
     "traceback": [
      "\u001b[0;36m  File \u001b[0;32m\"<ipython-input-29-e24189f9b929>\"\u001b[0;36m, line \u001b[0;32m64\u001b[0m\n\u001b[0;31m    view raw\u001b[0m\n\u001b[0m           ^\u001b[0m\n\u001b[0;31mSyntaxError\u001b[0m\u001b[0;31m:\u001b[0m invalid syntax\n"
     ]
    }
   ],
   "source": [
    "\n",
    "import mxnet as mx\n",
    "import numpy as np\n",
    "import logging\n",
    "\n",
    "logging.basicConfig(level=logging.INFO)\n",
    "\n",
    "sample_count = 1000\n",
    "train_count = 800\n",
    "valid_count = sample_count - train_count\n",
    "\n",
    "feature_count = 100\n",
    "category_count = 10\n",
    "batch=10\n",
    "\n",
    "X = mx.nd.uniform(low=0, high=1, shape=(sample_count,feature_count))\n",
    "Y = mx.nd.empty((sample_count,))\n",
    "for i in range(0,sample_count-1):\n",
    "  Y[i] = np.random.randint(0,category_count)\n",
    "\n",
    "X_train = mx.nd.crop(X, begin=(0,0), end=(train_count,feature_count))\n",
    "Y_train = Y[0:train_count]\n",
    "\n",
    "X_valid = mx.nd.crop(X, begin=(train_count,0), end=(sample_count,feature_count))\n",
    "Y_valid = Y[train_count:sample_count]\n",
    "\n",
    "#print(X.shape, Y.shape, X_train.shape, Y_train.shape, X_valid.shape, Y_valid.shape)\n",
    "\n",
    "# Build network\n",
    "data = mx.sym.Variable('data')\n",
    "fc1 = mx.sym.FullyConnected(data, name='fc1', num_hidden=64)\n",
    "relu1 = mx.sym.Activation(fc1, name='relu1', act_type=\"relu\")\n",
    "fc2 = mx.sym.FullyConnected(relu1, name='fc2', num_hidden=category_count)\n",
    "out = mx.sym.SoftmaxOutput(fc2, name='softmax')\n",
    "mod = mx.mod.Module(out)\n",
    "\n",
    "# Build iterator\n",
    "train_iter = mx.io.NDArrayIter(data=X_train,label=Y_train,batch_size=batch)\n",
    "#for batch in train_iter:\n",
    "#  print batch.data\n",
    "#  print batch.label\n",
    "\n",
    "# Train model\n",
    "mod.bind(data_shapes=train_iter.provide_data, label_shapes=train_iter.provide_label)\n",
    "mod.init_params(initializer=mx.init.Xavier(magnitude=2.))\n",
    "mod.init_optimizer(optimizer='sgd', optimizer_params=(('learning_rate', 0.1), ))\n",
    "mod.fit(train_iter, num_epoch=60)\n",
    "\n",
    "#pred_iter = mx.io.NDArrayIter(data=X_train,label=Y_train, batch_size=batch)\n",
    "#pred_count = train_count\n",
    "pred_iter = mx.io.NDArrayIter(data=X_valid,label=Y_valid, batch_size=batch)\n",
    "pred_count = valid_count\n",
    "\n",
    "correct_preds = total_correct_preds = 0\n",
    "print('batch [labels] [predicted labels]  correct predictions')\n",
    "for preds, i_batch, batch in mod.iter_predict(pred_iter):\n",
    "    label = batch.label[0].asnumpy().astype(int)\n",
    "    pred_label = preds[0].asnumpy().argmax(axis=1)\n",
    "    correct_preds = np.sum(pred_label==label)\n",
    "    print(i_batch, label, pred_label, correct_preds)\n",
    "    total_correct_preds = total_correct_preds + correct_preds\n",
    "\n",
    "print('Validation accuracy: %2.2f' % (1.0*total_correct_preds/pred_count))\n"
   ]
  },
  {
   "cell_type": "code",
   "execution_count": null,
   "metadata": {},
   "outputs": [],
   "source": []
  }
 ],
 "metadata": {
  "kernelspec": {
   "display_name": "Python 3",
   "language": "python",
   "name": "python3"
  },
  "language_info": {
   "codemirror_mode": {
    "name": "ipython",
    "version": 3
   },
   "file_extension": ".py",
   "mimetype": "text/x-python",
   "name": "python",
   "nbconvert_exporter": "python",
   "pygments_lexer": "ipython3",
   "version": "3.6.5"
  }
 },
 "nbformat": 4,
 "nbformat_minor": 2
}
