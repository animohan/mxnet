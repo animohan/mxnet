{
 "cells": [
  {
   "cell_type": "code",
   "execution_count": 1,
   "metadata": {},
   "outputs": [],
   "source": [
    "import os\n",
    "import gzip\n",
    "import shutil\n",
    "import struct\n",
    "import urllib\n",
    "import numpy as np"
   ]
  },
  {
   "cell_type": "code",
   "execution_count": 2,
   "metadata": {},
   "outputs": [
    {
     "ename": "IndentationError",
     "evalue": "unexpected indent (<ipython-input-2-3dd10564c1b6>, line 3)",
     "output_type": "error",
     "traceback": [
      "\u001b[0;36m  File \u001b[0;32m\"<ipython-input-2-3dd10564c1b6>\"\u001b[0;36m, line \u001b[0;32m3\u001b[0m\n\u001b[0;31m    with open(img_file, 'rb') as file:\u001b[0m\n\u001b[0m    ^\u001b[0m\n\u001b[0;31mIndentationError\u001b[0m\u001b[0;31m:\u001b[0m unexpected indent\n"
     ]
    }
   ],
   "source": [
    "path = 'data/mnist'\n",
    "img_file = os.path.join(path, dataset + '-images-idx3-ubyte')\n",
    "with open(img_file, 'rb') as file:\n",
    "    _, num, rows, cols = struct.unpack(\">IIII\", file.read(16))\n",
    "    imgs = np.fromfile(file, dtype=np.uint8).reshape(num, rows, cols)\n",
    "    imgs = imgs.astype(np.float32) / 255.0\n",
    "    if flatten:\n",
    "        imgs = imgs.reshape([num, -1])\n",
    "\n",
    "label_file = os.path.join(path, dataset + '-labels-idx1-ubyte')\n",
    "with open(label_file, 'rb') as file:\n",
    "    _,num = struct.unpack(\">II\", file.read(8))\n",
    "    labels = np.fromfile(file, dtype=np.int8)\n",
    "    new_labels = np.zeros((num, 10))\n",
    "    new_labels[np.arange(num), labels] = 1"
   ]
  }
 ],
 "metadata": {
  "kernelspec": {
   "display_name": "Python 3",
   "language": "python",
   "name": "python3"
  },
  "language_info": {
   "codemirror_mode": {
    "name": "ipython",
    "version": 3
   },
   "file_extension": ".py",
   "mimetype": "text/x-python",
   "name": "python",
   "nbconvert_exporter": "python",
   "pygments_lexer": "ipython3",
   "version": "3.6.5"
  }
 },
 "nbformat": 4,
 "nbformat_minor": 2
}
