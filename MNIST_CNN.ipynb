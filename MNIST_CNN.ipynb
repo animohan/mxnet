{
 "cells": [
  {
   "cell_type": "code",
   "execution_count": 1,
   "metadata": {},
   "outputs": [
    {
     "name": "stderr",
     "output_type": "stream",
     "text": [
      "/home/anm/anaconda3/lib/python3.6/site-packages/h5py/__init__.py:36: FutureWarning: Conversion of the second argument of issubdtype from `float` to `np.floating` is deprecated. In future, it will be treated as `np.float64 == np.dtype(float).type`.\n",
      "  from ._conv import register_converters as _register_converters\n"
     ]
    }
   ],
   "source": [
    "import mxnet as mx\n",
    "import numpy as np\n",
    "import os\n",
    "import logging\n",
    "import matplotlib.pyplot as plt\n",
    "import mnist"
   ]
  },
  {
   "cell_type": "code",
   "execution_count": 2,
   "metadata": {},
   "outputs": [],
   "source": [
    "train_x, train_y, test_x, test_y = mnist.readmnist('data/mnist')"
   ]
  },
  {
   "cell_type": "code",
   "execution_count": 3,
   "metadata": {},
   "outputs": [],
   "source": [
    "height = 28\n",
    "width = 28\n",
    "num_channel = 1\n",
    "num_train_images = np.shape(train_x)[0]\n",
    "num_test_images = np.shape(test_x)[0]"
   ]
  },
  {
   "cell_type": "code",
   "execution_count": 4,
   "metadata": {},
   "outputs": [],
   "source": [
    "train_x_img = train_x.reshape(num_train_images, num_channel, height, width)\n",
    "test_x_img = test_x.reshape(num_test_images, num_channel, height, width)"
   ]
  },
  {
   "cell_type": "code",
   "execution_count": 5,
   "metadata": {},
   "outputs": [
    {
     "name": "stdout",
     "output_type": "stream",
     "text": [
      "2\n"
     ]
    },
    {
     "data": {
      "image/png": "[encoded data removed]",
      "text/plain": [
       "<Figure size 144x144 with 1 Axes>"
      ]
     },
     "metadata": {},
     "output_type": "display_data"
    }
   ],
   "source": [
    "i = 10000\n",
    "plt.figure(figsize=(2,2))\n",
    "print(np.argmax(train_y[i]))\n",
    "plt.imshow((train_x_img[i,0,:,:]), cmap = \"Greys_r\")\n",
    "plt.axis('off')\n",
    "plt.show()"
   ]
  },
  {
   "cell_type": "code",
   "execution_count": 6,
   "metadata": {},
   "outputs": [],
   "source": [
    "epochs = 10\n",
    "batch_size = 100"
   ]
  },
  {
   "cell_type": "code",
   "execution_count": 7,
   "metadata": {},
   "outputs": [],
   "source": [
    "train_iter = mx.io.NDArrayIter(data = train_x_img, label = train_y, batch_size = batch_size, shuffle = True)\n",
    "test_iter = mx.io.NDArrayIter(data = test_x_img, label = test_y, batch_size = batch_size)"
   ]
  },
  {
   "cell_type": "code",
   "execution_count": 8,
   "metadata": {},
   "outputs": [],
   "source": [
    "data = mx.sym.Variable(\"data\")"
   ]
  },
  {
   "cell_type": "code",
   "execution_count": 9,
   "metadata": {},
   "outputs": [],
   "source": [
    "# Convolution layers\n",
    "conv1 = mx.sym.Convolution(data = data, kernel = (3,3), num_filter = 32)\n",
    "tanh1 = mx.sym.Activation(data = conv1, act_type = \"tanh\")\n",
    "pool1 = mx.sym.Pooling(data = tanh1, pool_type = \"max\", kernel = (2,2), stride = (2,2))\n",
    "\n",
    "conv2 = mx.sym.Convolution(data = tanh1, kernel = (5,5), num_filter = 64)\n",
    "tanh2 = mx.sym.Activation(data = conv2, act_type = \"tanh\")\n",
    "pool2 = mx.sym.Pooling(data = tanh2, pool_type = \"max\", kernel = (2,2), stride = (2,2))\n",
    "\n",
    "f1 = mx.sym.flatten(data = pool2)\n",
    "fc1 = mx.sym.FullyConnected(data = f1, num_hidden = 128)\n",
    "tanh3 = mx.sym.Activation(data = fc1, act_type = \"tanh\")\n",
    "\n",
    "fc2 = mx.sym.FullyConnected(data = tanh3, num_hidden = 10)\n",
    "out = mx.sym.SoftmaxOutput(data = fc2, name = \"softmax\")\n"
   ]
  },
  {
   "cell_type": "code",
   "execution_count": 10,
   "metadata": {},
   "outputs": [
    {
     "data": {
      "text/plain": [
       "'\\nf1 = mx.sym.flatten(data = data)\\nfc1 = mx.sym.FullyConnected(data = f1, num_hidden = 5)\\ntanh3 = mx.sym.Activation(data = fc1, act_type = \"tanh\")\\n\\nfc2 = mx.sym.FullyConnected(data = tanh3, num_hidden = 10)\\nout = mx.sym.SoftmaxOutput(data = fc2, name = \"softmax\")\\n'"
      ]
     },
     "execution_count": 10,
     "metadata": {},
     "output_type": "execute_result"
    }
   ],
   "source": [
    "'''\n",
    "f1 = mx.sym.flatten(data = data)\n",
    "fc1 = mx.sym.FullyConnected(data = f1, num_hidden = 5)\n",
    "tanh3 = mx.sym.Activation(data = fc1, act_type = \"tanh\")\n",
    "\n",
    "fc2 = mx.sym.FullyConnected(data = tanh3, num_hidden = 10)\n",
    "out = mx.sym.SoftmaxOutput(data = fc2, name = \"softmax\")\n",
    "'''"
   ]
  },
  {
   "cell_type": "code",
   "execution_count": 11,
   "metadata": {},
   "outputs": [
    {
     "data": {
      "text/plain": [
       "'\\ndata = mx.symbol.Variable(\\'data\\')\\n# first conv layer\\nconv1 = mx.sym.Convolution(data=data, kernel=(5,5), num_filter=20)\\ntanh1 = mx.sym.Activation(data=conv1, act_type=\"tanh\")\\npool1 = mx.sym.Pooling(data=tanh1, pool_type=\"max\", kernel=(2,2), stride=(2,2))\\n# second conv layer\\nconv2 = mx.sym.Convolution(data=pool1, kernel=(5,5), num_filter=50)\\ntanh2 = mx.sym.Activation(data=conv2, act_type=\"tanh\")\\npool2 = mx.sym.Pooling(data=tanh2, pool_type=\"max\", kernel=(2,2), stride=(2,2))\\n# first fullc layer\\nflatten = mx.sym.Flatten(data=pool2)\\nfc1 = mx.symbol.FullyConnected(data=flatten, num_hidden=500)\\ntanh3 = mx.sym.Activation(data=fc1, act_type=\"tanh\")\\n# second fullc\\nfc2 = mx.sym.FullyConnected(data=tanh3, num_hidden=10)\\n# softmax loss\\nout = mx.sym.SoftmaxOutput(data=fc2, name=\\'softmax\\')\\n#mx.viz.plot_network(symbol=lenet, shape=shape)\\n\\n# We visualize the network structure with output size (the batch_size is ignored.)\\nshape = {\"data\" : (batch_size, 1, 28, 28)}\\nmx.viz.plot_network(symbol=mlp, shape=shape)\\n'"
      ]
     },
     "execution_count": 11,
     "metadata": {},
     "output_type": "execute_result"
    }
   ],
   "source": [
    "'''\n",
    "data = mx.symbol.Variable('data')\n",
    "# first conv layer\n",
    "conv1 = mx.sym.Convolution(data=data, kernel=(5,5), num_filter=20)\n",
    "tanh1 = mx.sym.Activation(data=conv1, act_type=\"tanh\")\n",
    "pool1 = mx.sym.Pooling(data=tanh1, pool_type=\"max\", kernel=(2,2), stride=(2,2))\n",
    "# second conv layer\n",
    "conv2 = mx.sym.Convolution(data=pool1, kernel=(5,5), num_filter=50)\n",
    "tanh2 = mx.sym.Activation(data=conv2, act_type=\"tanh\")\n",
    "pool2 = mx.sym.Pooling(data=tanh2, pool_type=\"max\", kernel=(2,2), stride=(2,2))\n",
    "# first fullc layer\n",
    "flatten = mx.sym.Flatten(data=pool2)\n",
    "fc1 = mx.symbol.FullyConnected(data=flatten, num_hidden=500)\n",
    "tanh3 = mx.sym.Activation(data=fc1, act_type=\"tanh\")\n",
    "# second fullc\n",
    "fc2 = mx.sym.FullyConnected(data=tanh3, num_hidden=10)\n",
    "# softmax loss\n",
    "out = mx.sym.SoftmaxOutput(data=fc2, name='softmax')\n",
    "#mx.viz.plot_network(symbol=lenet, shape=shape)\n",
    "\n",
    "# We visualize the network structure with output size (the batch_size is ignored.)\n",
    "shape = {\"data\" : (batch_size, 1, 28, 28)}\n",
    "mx.viz.plot_network(symbol=mlp, shape=shape)\n",
    "'''"
   ]
  },
  {
   "cell_type": "code",
   "execution_count": 12,
   "metadata": {},
   "outputs": [
    {
     "ename": "RuntimeError",
     "evalue": "simple_bind error. Arguments:\ndata: (100, 1, 28, 28)\nsoftmax_label: (100, 10)\n[12:11:05] src/storage/./pooled_storage_manager.h:108: cudaMalloc failed: out of memory\n\nStack trace returned 10 entries:\n[bt] (0) /home/anm/anaconda3/lib/python3.6/site-packages/mxnet/libmxnet.so(+0x312412) [0x7fa983434412]\n[bt] (1) /home/anm/anaconda3/lib/python3.6/site-packages/mxnet/libmxnet.so(+0x3129e8) [0x7fa9834349e8]\n[bt] (2) /home/anm/anaconda3/lib/python3.6/site-packages/mxnet/libmxnet.so(+0x2f641cf) [0x7fa9860861cf]\n[bt] (3) /home/anm/anaconda3/lib/python3.6/site-packages/mxnet/libmxnet.so(+0x2f687dc) [0x7fa98608a7dc]\n[bt] (4) /home/anm/anaconda3/lib/python3.6/site-packages/mxnet/libmxnet.so(+0x297be51) [0x7fa985a9de51]\n[bt] (5) /home/anm/anaconda3/lib/python3.6/site-packages/mxnet/libmxnet.so(+0x297bfa4) [0x7fa985a9dfa4]\n[bt] (6) /home/anm/anaconda3/lib/python3.6/site-packages/mxnet/libmxnet.so(+0x29882fc) [0x7fa985aaa2fc]\n[bt] (7) /home/anm/anaconda3/lib/python3.6/site-packages/mxnet/libmxnet.so(+0x298ec08) [0x7fa985ab0c08]\n[bt] (8) /home/anm/anaconda3/lib/python3.6/site-packages/mxnet/libmxnet.so(+0x299acac) [0x7fa985abccac]\n[bt] (9) /home/anm/anaconda3/lib/python3.6/site-packages/mxnet/libmxnet.so(+0x299b3a4) [0x7fa985abd3a4]\n\n",
     "output_type": "error",
     "traceback": [
      "\u001b[0;31m---------------------------------------------------------------------------\u001b[0m",
      "\u001b[0;31mMXNetError\u001b[0m                                Traceback (most recent call last)",
      "\u001b[0;32m~/anaconda3/lib/python3.6/site-packages/mxnet/symbol/symbol.py\u001b[0m in \u001b[0;36msimple_bind\u001b[0;34m(self, ctx, grad_req, type_dict, stype_dict, group2ctx, shared_arg_names, shared_exec, shared_buffer, **kwargs)\u001b[0m\n\u001b[1;32m   1512\u001b[0m                                                  \u001b[0mshared_exec_handle\u001b[0m\u001b[0;34m,\u001b[0m\u001b[0;34m\u001b[0m\u001b[0m\n\u001b[0;32m-> 1513\u001b[0;31m                                                  ctypes.byref(exe_handle)))\n\u001b[0m\u001b[1;32m   1514\u001b[0m         \u001b[0;32mexcept\u001b[0m \u001b[0mMXNetError\u001b[0m \u001b[0;32mas\u001b[0m \u001b[0me\u001b[0m\u001b[0;34m:\u001b[0m\u001b[0;34m\u001b[0m\u001b[0m\n",
      "\u001b[0;32m~/anaconda3/lib/python3.6/site-packages/mxnet/base.py\u001b[0m in \u001b[0;36mcheck_call\u001b[0;34m(ret)\u001b[0m\n\u001b[1;32m    148\u001b[0m     \u001b[0;32mif\u001b[0m \u001b[0mret\u001b[0m \u001b[0;34m!=\u001b[0m \u001b[0;36m0\u001b[0m\u001b[0;34m:\u001b[0m\u001b[0;34m\u001b[0m\u001b[0m\n\u001b[0;32m--> 149\u001b[0;31m         \u001b[0;32mraise\u001b[0m \u001b[0mMXNetError\u001b[0m\u001b[0;34m(\u001b[0m\u001b[0mpy_str\u001b[0m\u001b[0;34m(\u001b[0m\u001b[0m_LIB\u001b[0m\u001b[0;34m.\u001b[0m\u001b[0mMXGetLastError\u001b[0m\u001b[0;34m(\u001b[0m\u001b[0;34m)\u001b[0m\u001b[0;34m)\u001b[0m\u001b[0;34m)\u001b[0m\u001b[0;34m\u001b[0m\u001b[0m\n\u001b[0m\u001b[1;32m    150\u001b[0m \u001b[0;34m\u001b[0m\u001b[0m\n",
      "\u001b[0;31mMXNetError\u001b[0m: [12:11:05] src/storage/./pooled_storage_manager.h:108: cudaMalloc failed: out of memory\n\nStack trace returned 10 entries:\n[bt] (0) /home/anm/anaconda3/lib/python3.6/site-packages/mxnet/libmxnet.so(+0x312412) [0x7fa983434412]\n[bt] (1) /home/anm/anaconda3/lib/python3.6/site-packages/mxnet/libmxnet.so(+0x3129e8) [0x7fa9834349e8]\n[bt] (2) /home/anm/anaconda3/lib/python3.6/site-packages/mxnet/libmxnet.so(+0x2f641cf) [0x7fa9860861cf]\n[bt] (3) /home/anm/anaconda3/lib/python3.6/site-packages/mxnet/libmxnet.so(+0x2f687dc) [0x7fa98608a7dc]\n[bt] (4) /home/anm/anaconda3/lib/python3.6/site-packages/mxnet/libmxnet.so(+0x297be51) [0x7fa985a9de51]\n[bt] (5) /home/anm/anaconda3/lib/python3.6/site-packages/mxnet/libmxnet.so(+0x297bfa4) [0x7fa985a9dfa4]\n[bt] (6) /home/anm/anaconda3/lib/python3.6/site-packages/mxnet/libmxnet.so(+0x29882fc) [0x7fa985aaa2fc]\n[bt] (7) /home/anm/anaconda3/lib/python3.6/site-packages/mxnet/libmxnet.so(+0x298ec08) [0x7fa985ab0c08]\n[bt] (8) /home/anm/anaconda3/lib/python3.6/site-packages/mxnet/libmxnet.so(+0x299acac) [0x7fa985abccac]\n[bt] (9) /home/anm/anaconda3/lib/python3.6/site-packages/mxnet/libmxnet.so(+0x299b3a4) [0x7fa985abd3a4]\n\n",
      "\nDuring handling of the above exception, another exception occurred:\n",
      "\u001b[0;31mRuntimeError\u001b[0m                              Traceback (most recent call last)",
      "\u001b[0;32m<ipython-input-12-a2950640c0fb>\u001b[0m in \u001b[0;36m<module>\u001b[0;34m()\u001b[0m\n\u001b[1;32m      3\u001b[0m \u001b[0;31m#logging.getLogger().setLevel(logging.DEBUG)\u001b[0m\u001b[0;34m\u001b[0m\u001b[0;34m\u001b[0m\u001b[0m\n\u001b[1;32m      4\u001b[0m \u001b[0mmod\u001b[0m \u001b[0;34m=\u001b[0m \u001b[0mmx\u001b[0m\u001b[0;34m.\u001b[0m\u001b[0mmod\u001b[0m\u001b[0;34m.\u001b[0m\u001b[0mModule\u001b[0m\u001b[0;34m(\u001b[0m\u001b[0msymbol\u001b[0m \u001b[0;34m=\u001b[0m \u001b[0mout\u001b[0m\u001b[0;34m,\u001b[0m \u001b[0mcontext\u001b[0m \u001b[0;34m=\u001b[0m \u001b[0mmx\u001b[0m\u001b[0;34m.\u001b[0m\u001b[0mgpu\u001b[0m\u001b[0;34m(\u001b[0m\u001b[0;36m0\u001b[0m\u001b[0;34m)\u001b[0m\u001b[0;34m)\u001b[0m\u001b[0;34m\u001b[0m\u001b[0m\n\u001b[0;32m----> 5\u001b[0;31m \u001b[0mmod\u001b[0m\u001b[0;34m.\u001b[0m\u001b[0mbind\u001b[0m\u001b[0;34m(\u001b[0m\u001b[0mdata_shapes\u001b[0m \u001b[0;34m=\u001b[0m \u001b[0mtrain_iter\u001b[0m\u001b[0;34m.\u001b[0m\u001b[0mprovide_data\u001b[0m\u001b[0;34m,\u001b[0m \u001b[0mlabel_shapes\u001b[0m \u001b[0;34m=\u001b[0m \u001b[0mtrain_iter\u001b[0m\u001b[0;34m.\u001b[0m\u001b[0mprovide_label\u001b[0m\u001b[0;34m)\u001b[0m\u001b[0;34m\u001b[0m\u001b[0m\n\u001b[0m\u001b[1;32m      6\u001b[0m \u001b[0mmod\u001b[0m\u001b[0;34m.\u001b[0m\u001b[0minit_params\u001b[0m\u001b[0;34m(\u001b[0m\u001b[0minitializer\u001b[0m \u001b[0;34m=\u001b[0m \u001b[0mmx\u001b[0m\u001b[0;34m.\u001b[0m\u001b[0minit\u001b[0m\u001b[0;34m.\u001b[0m\u001b[0mXavier\u001b[0m\u001b[0;34m(\u001b[0m\u001b[0mmagnitude\u001b[0m \u001b[0;34m=\u001b[0m \u001b[0;36m1.\u001b[0m\u001b[0;34m)\u001b[0m\u001b[0;34m)\u001b[0m\u001b[0;34m\u001b[0m\u001b[0m\n\u001b[1;32m      7\u001b[0m \u001b[0mmod\u001b[0m\u001b[0;34m.\u001b[0m\u001b[0mfit\u001b[0m\u001b[0;34m(\u001b[0m\u001b[0mtrain_iter\u001b[0m\u001b[0;34m,\u001b[0m\u001b[0meval_data\u001b[0m \u001b[0;34m=\u001b[0m \u001b[0mtest_iter\u001b[0m\u001b[0;34m,\u001b[0m\u001b[0mnum_epoch\u001b[0m \u001b[0;34m=\u001b[0m \u001b[0;36m5\u001b[0m\u001b[0;34m,\u001b[0m \u001b[0moptimizer_params\u001b[0m \u001b[0;34m=\u001b[0m \u001b[0;34m{\u001b[0m\u001b[0;34m'learning_rate'\u001b[0m\u001b[0;34m:\u001b[0m\u001b[0;36m0.1\u001b[0m\u001b[0;34m,\u001b[0m\u001b[0;34m'momentum'\u001b[0m\u001b[0;34m:\u001b[0m\u001b[0;36m.9\u001b[0m\u001b[0;34m}\u001b[0m\u001b[0;34m)\u001b[0m\u001b[0;34m\u001b[0m\u001b[0m\n",
      "\u001b[0;32m~/anaconda3/lib/python3.6/site-packages/mxnet/module/module.py\u001b[0m in \u001b[0;36mbind\u001b[0;34m(self, data_shapes, label_shapes, for_training, inputs_need_grad, force_rebind, shared_module, grad_req)\u001b[0m\n\u001b[1;32m    428\u001b[0m                                                      \u001b[0mfixed_param_names\u001b[0m\u001b[0;34m=\u001b[0m\u001b[0mself\u001b[0m\u001b[0;34m.\u001b[0m\u001b[0m_fixed_param_names\u001b[0m\u001b[0;34m,\u001b[0m\u001b[0;34m\u001b[0m\u001b[0m\n\u001b[1;32m    429\u001b[0m                                                      \u001b[0mgrad_req\u001b[0m\u001b[0;34m=\u001b[0m\u001b[0mgrad_req\u001b[0m\u001b[0;34m,\u001b[0m \u001b[0mgroup2ctxs\u001b[0m\u001b[0;34m=\u001b[0m\u001b[0mself\u001b[0m\u001b[0;34m.\u001b[0m\u001b[0m_group2ctxs\u001b[0m\u001b[0;34m,\u001b[0m\u001b[0;34m\u001b[0m\u001b[0m\n\u001b[0;32m--> 430\u001b[0;31m                                                      state_names=self._state_names)\n\u001b[0m\u001b[1;32m    431\u001b[0m         \u001b[0mself\u001b[0m\u001b[0;34m.\u001b[0m\u001b[0m_total_exec_bytes\u001b[0m \u001b[0;34m=\u001b[0m \u001b[0mself\u001b[0m\u001b[0;34m.\u001b[0m\u001b[0m_exec_group\u001b[0m\u001b[0;34m.\u001b[0m\u001b[0m_total_exec_bytes\u001b[0m\u001b[0;34m\u001b[0m\u001b[0m\n\u001b[1;32m    432\u001b[0m         \u001b[0;32mif\u001b[0m \u001b[0mshared_module\u001b[0m \u001b[0;32mis\u001b[0m \u001b[0;32mnot\u001b[0m \u001b[0;32mNone\u001b[0m\u001b[0;34m:\u001b[0m\u001b[0;34m\u001b[0m\u001b[0m\n",
      "\u001b[0;32m~/anaconda3/lib/python3.6/site-packages/mxnet/module/executor_group.py\u001b[0m in \u001b[0;36m__init__\u001b[0;34m(self, symbol, contexts, workload, data_shapes, label_shapes, param_names, for_training, inputs_need_grad, shared_group, logger, fixed_param_names, grad_req, state_names, group2ctxs)\u001b[0m\n\u001b[1;32m    263\u001b[0m         \u001b[0mself\u001b[0m\u001b[0;34m.\u001b[0m\u001b[0mnum_outputs\u001b[0m \u001b[0;34m=\u001b[0m \u001b[0mlen\u001b[0m\u001b[0;34m(\u001b[0m\u001b[0mself\u001b[0m\u001b[0;34m.\u001b[0m\u001b[0msymbol\u001b[0m\u001b[0;34m.\u001b[0m\u001b[0mlist_outputs\u001b[0m\u001b[0;34m(\u001b[0m\u001b[0;34m)\u001b[0m\u001b[0;34m)\u001b[0m\u001b[0;34m\u001b[0m\u001b[0m\n\u001b[1;32m    264\u001b[0m \u001b[0;34m\u001b[0m\u001b[0m\n\u001b[0;32m--> 265\u001b[0;31m         \u001b[0mself\u001b[0m\u001b[0;34m.\u001b[0m\u001b[0mbind_exec\u001b[0m\u001b[0;34m(\u001b[0m\u001b[0mdata_shapes\u001b[0m\u001b[0;34m,\u001b[0m \u001b[0mlabel_shapes\u001b[0m\u001b[0;34m,\u001b[0m \u001b[0mshared_group\u001b[0m\u001b[0;34m)\u001b[0m\u001b[0;34m\u001b[0m\u001b[0m\n\u001b[0m\u001b[1;32m    266\u001b[0m \u001b[0;34m\u001b[0m\u001b[0m\n\u001b[1;32m    267\u001b[0m     \u001b[0;32mdef\u001b[0m \u001b[0mdecide_slices\u001b[0m\u001b[0;34m(\u001b[0m\u001b[0mself\u001b[0m\u001b[0;34m,\u001b[0m \u001b[0mdata_shapes\u001b[0m\u001b[0;34m)\u001b[0m\u001b[0;34m:\u001b[0m\u001b[0;34m\u001b[0m\u001b[0m\n",
      "\u001b[0;32m~/anaconda3/lib/python3.6/site-packages/mxnet/module/executor_group.py\u001b[0m in \u001b[0;36mbind_exec\u001b[0;34m(self, data_shapes, label_shapes, shared_group, reshape)\u001b[0m\n\u001b[1;32m    359\u001b[0m             \u001b[0;32melse\u001b[0m\u001b[0;34m:\u001b[0m\u001b[0;34m\u001b[0m\u001b[0m\n\u001b[1;32m    360\u001b[0m                 self.execs.append(self._bind_ith_exec(i, data_shapes_i, label_shapes_i,\n\u001b[0;32m--> 361\u001b[0;31m                                                       shared_group))\n\u001b[0m\u001b[1;32m    362\u001b[0m \u001b[0;34m\u001b[0m\u001b[0m\n\u001b[1;32m    363\u001b[0m         \u001b[0mself\u001b[0m\u001b[0;34m.\u001b[0m\u001b[0mdata_shapes\u001b[0m \u001b[0;34m=\u001b[0m \u001b[0mdata_shapes\u001b[0m\u001b[0;34m\u001b[0m\u001b[0m\n",
      "\u001b[0;32m~/anaconda3/lib/python3.6/site-packages/mxnet/module/executor_group.py\u001b[0m in \u001b[0;36m_bind_ith_exec\u001b[0;34m(self, i, data_shapes, label_shapes, shared_group)\u001b[0m\n\u001b[1;32m    637\u001b[0m                                            \u001b[0mtype_dict\u001b[0m\u001b[0;34m=\u001b[0m\u001b[0minput_types\u001b[0m\u001b[0;34m,\u001b[0m \u001b[0mshared_arg_names\u001b[0m\u001b[0;34m=\u001b[0m\u001b[0mself\u001b[0m\u001b[0;34m.\u001b[0m\u001b[0mparam_names\u001b[0m\u001b[0;34m,\u001b[0m\u001b[0;34m\u001b[0m\u001b[0m\n\u001b[1;32m    638\u001b[0m                                            \u001b[0mshared_exec\u001b[0m\u001b[0;34m=\u001b[0m\u001b[0mshared_exec\u001b[0m\u001b[0;34m,\u001b[0m \u001b[0mgroup2ctx\u001b[0m\u001b[0;34m=\u001b[0m\u001b[0mgroup2ctx\u001b[0m\u001b[0;34m,\u001b[0m\u001b[0;34m\u001b[0m\u001b[0m\n\u001b[0;32m--> 639\u001b[0;31m                                            shared_buffer=shared_data_arrays, **input_shapes)\n\u001b[0m\u001b[1;32m    640\u001b[0m         \u001b[0mself\u001b[0m\u001b[0;34m.\u001b[0m\u001b[0m_total_exec_bytes\u001b[0m \u001b[0;34m+=\u001b[0m \u001b[0mint\u001b[0m\u001b[0;34m(\u001b[0m\u001b[0mexecutor\u001b[0m\u001b[0;34m.\u001b[0m\u001b[0mdebug_str\u001b[0m\u001b[0;34m(\u001b[0m\u001b[0;34m)\u001b[0m\u001b[0;34m.\u001b[0m\u001b[0msplit\u001b[0m\u001b[0;34m(\u001b[0m\u001b[0;34m'\\n'\u001b[0m\u001b[0;34m)\u001b[0m\u001b[0;34m[\u001b[0m\u001b[0;34m-\u001b[0m\u001b[0;36m3\u001b[0m\u001b[0;34m]\u001b[0m\u001b[0;34m.\u001b[0m\u001b[0msplit\u001b[0m\u001b[0;34m(\u001b[0m\u001b[0;34m)\u001b[0m\u001b[0;34m[\u001b[0m\u001b[0;36m1\u001b[0m\u001b[0;34m]\u001b[0m\u001b[0;34m)\u001b[0m\u001b[0;34m\u001b[0m\u001b[0m\n\u001b[1;32m    641\u001b[0m         \u001b[0;32mreturn\u001b[0m \u001b[0mexecutor\u001b[0m\u001b[0;34m\u001b[0m\u001b[0m\n",
      "\u001b[0;32m~/anaconda3/lib/python3.6/site-packages/mxnet/symbol/symbol.py\u001b[0m in \u001b[0;36msimple_bind\u001b[0;34m(self, ctx, grad_req, type_dict, stype_dict, group2ctx, shared_arg_names, shared_exec, shared_buffer, **kwargs)\u001b[0m\n\u001b[1;32m   1517\u001b[0m                 \u001b[0merror_msg\u001b[0m \u001b[0;34m+=\u001b[0m \u001b[0;34m\"%s: %s\\n\"\u001b[0m \u001b[0;34m%\u001b[0m \u001b[0;34m(\u001b[0m\u001b[0mk\u001b[0m\u001b[0;34m,\u001b[0m \u001b[0mv\u001b[0m\u001b[0;34m)\u001b[0m\u001b[0;34m\u001b[0m\u001b[0m\n\u001b[1;32m   1518\u001b[0m             \u001b[0merror_msg\u001b[0m \u001b[0;34m+=\u001b[0m \u001b[0;34m\"%s\"\u001b[0m \u001b[0;34m%\u001b[0m \u001b[0me\u001b[0m\u001b[0;34m\u001b[0m\u001b[0m\n\u001b[0;32m-> 1519\u001b[0;31m             \u001b[0;32mraise\u001b[0m \u001b[0mRuntimeError\u001b[0m\u001b[0;34m(\u001b[0m\u001b[0merror_msg\u001b[0m\u001b[0;34m)\u001b[0m\u001b[0;34m\u001b[0m\u001b[0m\n\u001b[0m\u001b[1;32m   1520\u001b[0m \u001b[0;34m\u001b[0m\u001b[0m\n\u001b[1;32m   1521\u001b[0m         \u001b[0;31m# update shared_buffer\u001b[0m\u001b[0;34m\u001b[0m\u001b[0;34m\u001b[0m\u001b[0m\n",
      "\u001b[0;31mRuntimeError\u001b[0m: simple_bind error. Arguments:\ndata: (100, 1, 28, 28)\nsoftmax_label: (100, 10)\n[12:11:05] src/storage/./pooled_storage_manager.h:108: cudaMalloc failed: out of memory\n\nStack trace returned 10 entries:\n[bt] (0) /home/anm/anaconda3/lib/python3.6/site-packages/mxnet/libmxnet.so(+0x312412) [0x7fa983434412]\n[bt] (1) /home/anm/anaconda3/lib/python3.6/site-packages/mxnet/libmxnet.so(+0x3129e8) [0x7fa9834349e8]\n[bt] (2) /home/anm/anaconda3/lib/python3.6/site-packages/mxnet/libmxnet.so(+0x2f641cf) [0x7fa9860861cf]\n[bt] (3) /home/anm/anaconda3/lib/python3.6/site-packages/mxnet/libmxnet.so(+0x2f687dc) [0x7fa98608a7dc]\n[bt] (4) /home/anm/anaconda3/lib/python3.6/site-packages/mxnet/libmxnet.so(+0x297be51) [0x7fa985a9de51]\n[bt] (5) /home/anm/anaconda3/lib/python3.6/site-packages/mxnet/libmxnet.so(+0x297bfa4) [0x7fa985a9dfa4]\n[bt] (6) /home/anm/anaconda3/lib/python3.6/site-packages/mxnet/libmxnet.so(+0x29882fc) [0x7fa985aaa2fc]\n[bt] (7) /home/anm/anaconda3/lib/python3.6/site-packages/mxnet/libmxnet.so(+0x298ec08) [0x7fa985ab0c08]\n[bt] (8) /home/anm/anaconda3/lib/python3.6/site-packages/mxnet/libmxnet.so(+0x299acac) [0x7fa985abccac]\n[bt] (9) /home/anm/anaconda3/lib/python3.6/site-packages/mxnet/libmxnet.so(+0x299b3a4) [0x7fa985abd3a4]\n\n"
     ]
    }
   ],
   "source": [
    "train_iter.reset()\n",
    "test_iter.reset()\n",
    "#logging.getLogger().setLevel(logging.DEBUG)\n",
    "mod = mx.mod.Module(symbol = out, context = mx.gpu(0))\n",
    "mod.bind(data_shapes = train_iter.provide_data, label_shapes = train_iter.provide_label)\n",
    "mod.init_params(initializer = mx.init.Xavier(magnitude = 1.))\n",
    "mod.fit(train_iter,eval_data = test_iter,num_epoch = 5, optimizer_params = {'learning_rate':0.1,'momentum':.9})\n",
    "mod.score(train_iter,['acc'])\n",
    "\n",
    "total_correct = 0\n",
    "batch_correct = 0\n",
    "for preds,i, batch in mod.iter_predict(train_iter):\n",
    "    label = batch.label[0].asnumpy().argmax(axis = 1)\n",
    "    pred_label = preds[0].asnumpy().argmax(axis = 1)\n",
    "    batch_correct = np.sum(label == pred_label)\n",
    "    total_correct += batch_correct\n",
    "\n",
    "print(\"Train Set accuracy {%2.2f}\" %(total_correct/len(train_y)))\n",
    "\n",
    "total_correct = 0\n",
    "batch_correct = 0\n",
    "for preds,i, batch in mod.iter_predict(test_iter):\n",
    "    label = batch.label[0].asnumpy().argmax(axis = 1)\n",
    "    pred_label = preds[0].asnumpy().argmax(axis = 1)\n",
    "    batch_correct = np.sum(label == pred_label)\n",
    "    total_correct += batch_correct\n",
    "\n",
    "print(\"Test Set accuracy {%2.2f}\" %(total_correct/len(test_y)))"
   ]
  },
  {
   "cell_type": "code",
   "execution_count": null,
   "metadata": {},
   "outputs": [],
   "source": []
  },
  {
   "cell_type": "code",
   "execution_count": null,
   "metadata": {},
   "outputs": [],
   "source": []
  },
  {
   "cell_type": "code",
   "execution_count": null,
   "metadata": {},
   "outputs": [],
   "source": [
    "pred_label"
   ]
  },
  {
   "cell_type": "code",
   "execution_count": null,
   "metadata": {},
   "outputs": [],
   "source": [
    "label"
   ]
  }
 ],
 "metadata": {
  "kernelspec": {
   "display_name": "Python 3",
   "language": "python",
   "name": "python3"
  },
  "language_info": {
   "codemirror_mode": {
    "name": "ipython",
    "version": 3
   },
   "file_extension": ".py",
   "mimetype": "text/x-python",
   "name": "python",
   "nbconvert_exporter": "python",
   "pygments_lexer": "ipython3",
   "version": "3.6.5"
  }
 },
 "nbformat": 4,
 "nbformat_minor": 2
}
