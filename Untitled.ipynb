{
 "cells": [
  {
   "cell_type": "code",
   "execution_count": 1,
   "metadata": {},
   "outputs": [],
   "source": [
    "import mxnet as mx\n",
    "import numpy as np\n",
    "import mnist\n",
    "import logging"
   ]
  },
  {
   "cell_type": "code",
   "execution_count": 18,
   "metadata": {},
   "outputs": [],
   "source": [
    "ctx = mx.cpu()"
   ]
  },
  {
   "cell_type": "code",
   "execution_count": 6,
   "metadata": {},
   "outputs": [],
   "source": [
    "#MNIST is already downloaded. To download, uncommment next line\n",
    "# mnist.downloadmnist('data\\mnist')\n",
    "train_x, train_y, test_x, test_y = mnist.readmnist('data/mnist')"
   ]
  },
  {
   "cell_type": "code",
   "execution_count": 7,
   "metadata": {},
   "outputs": [],
   "source": [
    "epochs = 50\n",
    "batch_size = 100"
   ]
  },
  {
   "cell_type": "code",
   "execution_count": 8,
   "metadata": {},
   "outputs": [],
   "source": [
    "train_iter = mx.io.NDArrayIter(data = train_x, label = train_y,\n",
    "                              batch_size = batch_size, data_name = \"data\",\n",
    "                              label_name = \"softmax_label\", \n",
    "                              last_batch_handle = \"discard\", shuffle = True)\n"
   ]
  },
  {
   "cell_type": "code",
   "execution_count": 16,
   "metadata": {},
   "outputs": [
    {
     "data": {
      "text/plain": [
       "['data',\n",
       " 'Module_fc1_weight',\n",
       " 'Module_fc1_bias',\n",
       " 'Module_fc2_weight',\n",
       " 'Module_fc2_bias',\n",
       " 'Module_Softmax_label']"
      ]
     },
     "execution_count": 16,
     "metadata": {},
     "output_type": "execute_result"
    }
   ],
   "source": [
    "data = mx.sym.Variable(\"data\")\n",
    "\n",
    "with mx.name.Prefix(\"Module_\"):\n",
    "    fc1 = mx.sym.FullyConnected(data = data, name = \"fc1\", num_hidden = 64)\n",
    "    relu1 = mx.sym.Activation(data = fc1, name = \"relu1\", act_type = 'relu' )\n",
    "    fc2 = mx.sym.FullyConnected(data = relu1, name = \"fc2\", num_hidden = 10)\n",
    "    softmax = mx.sym.SoftmaxOutput(data = fc2, name = \"Softmax\")\n",
    "    \n",
    "\n",
    "arg_names = softmax.list_arguments()\n",
    "arg_names   "
   ]
  },
  {
   "cell_type": "code",
   "execution_count": 15,
   "metadata": {},
   "outputs": [
    {
     "name": "stdout",
     "output_type": "stream",
     "text": [
      "[(100, 784), (64, 784), (64,), (10, 64), (10,), (100,)]\n",
      "[(100, 10)]\n",
      "[]\n"
     ]
    }
   ],
   "source": [
    "layer_shapes,output_shape,hidden_shape =  softmax.infer_shape(data = (batch_size, 784))\n",
    "print(layer_shapes)\n",
    "print(output_shapes)\n",
    "print(hidden_shape)"
   ]
  },
  {
   "cell_type": "markdown",
   "metadata": {},
   "source": [
    "ref: https://mxnet.incubator.apache.org/tutorials/python/mnist.html"
   ]
  }
 ],
 "metadata": {
  "kernelspec": {
   "display_name": "Environment (conda_mxnet_p36)",
   "language": "python",
   "name": "conda_mxnet_p36"
  },
  "language_info": {
   "codemirror_mode": {
    "name": "ipython",
    "version": 3
   },
   "file_extension": ".py",
   "mimetype": "text/x-python",
   "name": "python",
   "nbconvert_exporter": "python",
   "pygments_lexer": "ipython3",
   "version": "3.6.6"
  }
 },
 "nbformat": 4,
 "nbformat_minor": 2
}
